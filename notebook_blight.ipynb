{
 "cells": [
  {
   "cell_type": "code",
   "execution_count": 1,
   "metadata": {},
   "outputs": [
    {
     "name": "stderr",
     "output_type": "stream",
     "text": [
      "/anaconda3/lib/python3.6/site-packages/IPython/core/interactiveshell.py:2850: DtypeWarning: Columns (11,12,31) have mixed types. Specify dtype option on import or set low_memory=False.\n",
      "  if self.run_code(code, result):\n"
     ]
    }
   ],
   "source": [
    "import pandas as pd\n",
    "import numpy as np\n",
    "\n",
    "def blight_model():\n",
    "    \n",
    "    from sklearn.ensemble import RandomForestClassifier\n",
    "    from sklearn.metrics import roc_auc_score\n",
    "    from sklearn.ensemble import GradientBoostingClassifier\n",
    "    from sklearn.naive_bayes import GaussianNB\n",
    "    from sklearn.svm import SVC\n",
    "    from sklearn.model_selection import GridSearchCV\n",
    "    \n",
    "    # Read in the data sets\n",
    "    train = pd.read_csv('train.csv', encoding = \"ISO-8859-1\")\n",
    "    test = pd.read_csv('test.csv', encoding = \"ISO-8859-1\")\n",
    "    addresses = pd.read_csv('addresses.csv', encoding = \"ISO-8859-1\")\n",
    "    \n",
    "    # Merge the addresses and lat/lons into the train and test DataFrames\n",
    "    train = pd.merge(train, addresses, how='inner', left_on='ticket_id', right_on='ticket_id')\n",
    "    test = pd.merge(test, addresses, how='inner', left_on='ticket_id', right_on='ticket_id')\n",
    "    \n",
    "    # Remove train data with 'compliance' == NaN\n",
    "    train = train.dropna(subset=['compliance'])\n",
    "    train['compliance'] = train['compliance'].astype(int)\n",
    "    \n",
    "    \n",
    "    # Convert NaN to \"NA\" in columns to convert to type category\n",
    "    convert_columns={'country': 'category',\n",
    "                     'non_us_str_code': 'category',\n",
    "                     'compliance': 'category',\n",
    "                     'state': 'category',\n",
    "                     'zip_code': 'category'\n",
    "                    }\n",
    "    \n",
    "    for df in [test, train]:\n",
    "        for col, col_type in convert_columns.items():\n",
    "            if col in df:\n",
    "                if col_type == 'category':\n",
    "                    df[col] = df[col].replace(np.nan, \"NA\", regex=True).astype(col_type)\n",
    "                elif col_type == 'int':\n",
    "                    df[col] = df[col].replace(np.nan, 0, regex=True).astype(col_type)\n",
    "    \n",
    "   \n",
    "    # Remove unneeded columns from X sets    \n",
    "    common_cols_to_drop = ['agency_name', 'inspector_name', 'mailing_address_str_number',\n",
    "                           'violator_name', 'violation_street_number', 'violation_street_name',\n",
    "                           'mailing_address_str_name', 'address', 'admin_fee', 'violation_zip_code',\n",
    "                           'state_fee', 'late_fee', 'ticket_issued_date', 'hearing_date', 'violation_description',\n",
    "                           'fine_amount', 'clean_up_cost', 'disposition', 'grafitti_status',\n",
    "                           'violation_code', 'city']\n",
    "    train_cols_to_drop = ['payment_status', 'payment_date', 'balance_due', 'payment_amount'] + common_cols_to_drop\n",
    "    train = train.drop(train_cols_to_drop, axis=1).set_index('ticket_id')\n",
    "    test = test.drop(common_cols_to_drop, axis=1).set_index('ticket_id')\n",
    "    y_train = train['compliance']  \n",
    "    X_train_cols_to_drop = ['compliance', 'compliance_detail', 'collection_status']\n",
    "    train = train.drop(X_train_cols_to_drop, axis=1)\n",
    "    \n",
    "    # Convert cetegory columns to integers\n",
    "    cat_columns = train.select_dtypes(['category']).columns\n",
    "    for df in [test, train]:\n",
    "        df[cat_columns] = df[cat_columns].apply(lambda x: x.cat.codes)\n",
    "        \n",
    "    # Create X_train data\n",
    "\n",
    "    X_train = train.copy()\n",
    "    \n",
    "    grid_values = {'learning_rate': [0.01, 0.1, 1], 'max_depth': [3, 4, 5]}\n",
    "    clf = GradientBoostingClassifier(random_state = 0)\n",
    "    grid_clf_auc = GridSearchCV(clf, param_grid = grid_values, scoring = 'roc_auc')\n",
    "    grid_clf_auc.fit(X_train, y_train)\n",
    "    probs = grid_clf_auc.predict_proba(test)[:, 1]\n",
    "    result = pd.Series(probs, index=test.index)\n",
    "    scorer=grid_clf_auc.best_score_\n",
    "    return result,scorer\n",
    "\n",
    "predictions,score=blight_model()"
   ]
  },
  {
   "cell_type": "code",
   "execution_count": 2,
   "metadata": {},
   "outputs": [
    {
     "data": {
      "text/plain": [
       "ticket_id\n",
       "284932    0.205176\n",
       "285362    0.094864\n",
       "285361    0.228263\n",
       "285338    0.205176\n",
       "285346    0.228263\n",
       "dtype: float64"
      ]
     },
     "execution_count": 2,
     "metadata": {},
     "output_type": "execute_result"
    }
   ],
   "source": [
    "predictions.head()"
   ]
  },
  {
   "cell_type": "code",
   "execution_count": 3,
   "metadata": {},
   "outputs": [
    {
     "data": {
      "text/plain": [
       "0.7523577544339461"
      ]
     },
     "execution_count": 3,
     "metadata": {},
     "output_type": "execute_result"
    }
   ],
   "source": [
    "score"
   ]
  }
 ],
 "metadata": {
  "coursera": {
   "course_slug": "python-machine-learning",
   "graded_item_id": "nNS8l",
   "launcher_item_id": "yWWk7",
   "part_id": "w8BSS"
  },
  "kernelspec": {
   "display_name": "Python 3",
   "language": "python",
   "name": "python3"
  },
  "language_info": {
   "codemirror_mode": {
    "name": "ipython",
    "version": 3
   },
   "file_extension": ".py",
   "mimetype": "text/x-python",
   "name": "python",
   "nbconvert_exporter": "python",
   "pygments_lexer": "ipython3",
   "version": "3.6.4"
  }
 },
 "nbformat": 4,
 "nbformat_minor": 2
}
